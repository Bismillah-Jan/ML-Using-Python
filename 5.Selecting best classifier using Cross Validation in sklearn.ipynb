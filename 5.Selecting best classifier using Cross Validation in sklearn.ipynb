{
 "cells": [
  {
   "cell_type": "markdown",
   "metadata": {},
   "source": [
    "### Author: Bismillah Jan\n",
    "Mar 18, 2017\n",
    "* Using Wisconsin breast cancer dataset\n",
    "* Cross Validation practice \n",
    "* Using svm as classifier\n",
    "* Train_Test split procedure\n"
   ]
  },
  {
   "cell_type": "code",
   "execution_count": 14,
   "metadata": {
    "collapsed": true
   },
   "outputs": [],
   "source": [
    "import pandas as pd\n",
    "import scipy"
   ]
  },
  {
   "cell_type": "code",
   "execution_count": 87,
   "metadata": {
    "collapsed": false
   },
   "outputs": [
    {
     "name": "stdout",
     "output_type": "stream",
     "text": [
      "[ 5  4  4  5  7 10  3  2  1  2]\n",
      "[ 5  4  4  5  7 10  3  2  1] 2\n"
     ]
    }
   ],
   "source": [
    "fil='breast-cancer-wisconsin.data'\n",
    "data=pd.read_csv(fil, index_col=0)\n",
    "data=scipy.array(data)\n",
    "print data[0]\n",
    " # separate data and labels\n",
    "X=data[:,0:data.shape[1]-1]\n",
    "y=data[:,-1]\n",
    "print X[0], y[0]"
   ]
  },
  {
   "cell_type": "code",
   "execution_count": 88,
   "metadata": {
    "collapsed": false
   },
   "outputs": [],
   "source": [
    "from sklearn import svm #import svm \n",
    "from sklearn.cross_validation import train_test_split\n",
    "from sklearn import metrics"
   ]
  },
  {
   "cell_type": "markdown",
   "metadata": {},
   "source": [
    "## Only one train_test split"
   ]
  },
  {
   "cell_type": "code",
   "execution_count": 104,
   "metadata": {
    "collapsed": false
   },
   "outputs": [
    {
     "name": "stdout",
     "output_type": "stream",
     "text": [
      "0.952380952381\n"
     ]
    }
   ],
   "source": [
    "#instantiate classifier\n",
    "myClassifier=svm.SVC(C=1.0, decision_function_shape='ovo', degree=2, kernel='rbf')\n",
    "\n",
    "#split data into train and test (60:40 ratio)\n",
    "xtrain,xtest,ytrain,ytest=train_test_split(X,y, test_size=0.4) \n",
    "#we can add random_state=4 <any number> to preserve the train & test data\n",
    "\n",
    "#fit the model\n",
    "myClassifier.fit(xtrain,ytrain)\n",
    "\n",
    "#now test the model on test data\n",
    "ypred=myClassifier.predict(xtest)\n",
    "\n",
    "#Accuracy measure\n",
    "acc=metrics.accuracy_score(ytest,ypred)\n",
    "print acc"
   ]
  },
  {
   "cell_type": "markdown",
   "metadata": {},
   "source": [
    "## Using  5-folds cross validation"
   ]
  },
  {
   "cell_type": "code",
   "execution_count": 106,
   "metadata": {
    "collapsed": false
   },
   "outputs": [
    {
     "name": "stdout",
     "output_type": "stream",
     "text": [
      "[ 0.89781022  0.91240876  0.96350365  0.98529412  0.98518519]\n",
      "0.948840386114\n"
     ]
    }
   ],
   "source": [
    "from sklearn.cross_validation import KFold\n",
    "from sklearn.cross_validation import cross_val_score #for stratification purpose\n",
    "\n",
    "#instantiate classifier\n",
    "myClassifier=svm.SVC(C=1.0, decision_function_shape='ovo', degree=2, kernel='rbf')\n",
    "\n",
    "#using Accuracy matrix\n",
    "score=cross_val_score(myClassifier, X, y, cv=5, scoring='accuracy')\n",
    "\n",
    "\n",
    "print score\n",
    "print score.mean()"
   ]
  },
  {
   "cell_type": "markdown",
   "metadata": {},
   "source": [
    "## Searching for best value of C\n",
    "* By running cross validation for multiple times"
   ]
  },
  {
   "cell_type": "code",
   "execution_count": 133,
   "metadata": {
    "collapsed": false
   },
   "outputs": [
    {
     "name": "stdout",
     "output_type": "stream",
     "text": [
      "[0.9488403861138941, 0.95319832069080679, 0.95319832069080679, 0.95319832069080679, 0.95319832069080679]\n",
      "[1.0, 10.0, 100.0, 1000.0, 10000.0]\n"
     ]
    },
    {
     "data": {
      "text/plain": [
       "[<matplotlib.lines.Line2D at 0x7f0bc0103bd0>]"
      ]
     },
     "execution_count": 133,
     "metadata": {},
     "output_type": "execute_result"
    },
    {
     "data": {
      "image/png": "[encoded data removed]",
      "text/plain": [
       "<matplotlib.figure.Figure at 0x7f0bc0256110>"
      ]
     },
     "metadata": {},
     "output_type": "display_data"
    }
   ],
   "source": [
    "cList=[]\n",
    "scoreList=[]\n",
    "for i in range (5):\n",
    "    cList.append(10.0**i)\n",
    "    myClassifier=svm.SVC(C=10**i, decision_function_shape='linear', degree=2, kernel='rbf')\n",
    "    score=cross_val_score(myClassifier, X, y, cv=5, scoring='accuracy')\n",
    "    scoreList.append(score.mean())\n",
    "print scoreList\n",
    "print cList\n",
    "import matplotlib.pyplot as plt\n",
    "%matplotlib inline\n",
    "plt.plot(cList, scoreList, '*')"
   ]
  },
  {
   "cell_type": "markdown",
   "metadata": {},
   "source": [
    "# Logistic regression on iris dataset"
   ]
  },
  {
   "cell_type": "code",
   "execution_count": 149,
   "metadata": {
    "collapsed": false
   },
   "outputs": [
    {
     "name": "stdout",
     "output_type": "stream",
     "text": [
      "Accuracy:  0.96\n"
     ]
    }
   ],
   "source": [
    "from sklearn import datasets\n",
    "iris=datasets.load_iris()\n",
    "X=iris.data\n",
    "y=iris.target\n",
    "\n",
    "from sklearn.linear_model import LogisticRegression\n",
    "lg=LogisticRegression()\n",
    "score=cross_val_score(lg, X,y, cv=5, scoring='accuracy')\n",
    "print \"Accuracy: \", score.mean()\n",
    "\n"
   ]
  }
 ],
 "metadata": {
  "kernelspec": {
   "display_name": "Python 2",
   "language": "python",
   "name": "python2"
  },
  "language_info": {
   "codemirror_mode": {
    "name": "ipython",
    "version": 2
   },
   "file_extension": ".py",
   "mimetype": "text/x-python",
   "name": "python",
   "nbconvert_exporter": "python",
   "pygments_lexer": "ipython2",
   "version": "2.7.13"
  }
 },
 "nbformat": 4,
 "nbformat_minor": 2
}
